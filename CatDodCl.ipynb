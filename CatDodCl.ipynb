{
 "cells": [
  {
   "cell_type": "code",
   "execution_count": 39,
   "id": "01f24c4e",
   "metadata": {},
   "outputs": [],
   "source": [
    "import torch\n",
    "import torch.nn as nn\n",
    "import torch.functional as f\n",
    "import torchvision.datasets as datasets\n",
    "import torchvision.transforms as transforms\n",
    "from torch.utils.data import DataLoader, random_split"
   ]
  },
  {
   "cell_type": "code",
   "execution_count": 40,
   "id": "350694ff",
   "metadata": {},
   "outputs": [],
   "source": [
    "transform=transforms.Compose([\n",
    "    transforms.Resize((244,244)),\n",
    "    transforms.ToTensor(),\n",
    "    transforms.Normalize(mean=[0.485, 0.456, 0.406],std=[0.229, 0.224, 0.225])\n",
    "]\n",
    ")"
   ]
  },
  {
   "cell_type": "code",
   "execution_count": 41,
   "id": "0756a5e1",
   "metadata": {},
   "outputs": [],
   "source": [
    "dataset=datasets.ImageFolder(root=\"C:\\\\Users\\\\anish\\\\Downloads\\\\archive\\\\PetImages\",transform=transform)"
   ]
  },
  {
   "cell_type": "code",
   "execution_count": 42,
   "id": "25c96eb7",
   "metadata": {},
   "outputs": [],
   "source": [
    "train_size=(len(dataset)//10)*8\n",
    "val_size=(len(dataset)//10)\n",
    "test_size=len(dataset)-train_size-val_size"
   ]
  },
  {
   "cell_type": "code",
   "execution_count": 43,
   "id": "05ef5ff2",
   "metadata": {},
   "outputs": [],
   "source": [
    "train_data,val_data,test_data=random_split(dataset,[train_size,val_size,test_size])"
   ]
  },
  {
   "cell_type": "code",
   "execution_count": 44,
   "id": "e12b3c24",
   "metadata": {},
   "outputs": [],
   "source": [
    "train_loader=DataLoader(train_data,batch_size=32,shuffle=True,num_workers=2)\n",
    "val_loader=DataLoader(val_data,batch_size=32,shuffle=False,num_workers=2)\n",
    "test_loader=DataLoader(test_data,batch_size=32,shuffle=False,num_workers=2)"
   ]
  },
  {
   "cell_type": "code",
   "execution_count": 45,
   "id": "3fc628c0",
   "metadata": {},
   "outputs": [],
   "source": [
    "torch.manual_seed(41)\n",
    "model=nn.Sequential()"
   ]
  },
  {
   "cell_type": "code",
   "execution_count": 46,
   "id": "1007f438",
   "metadata": {},
   "outputs": [],
   "source": [
    "conv1=nn.Conv2d(in_channels=3, out_channels=16,kernel_size=3,padding=1)\n",
    "bn1=nn.BatchNorm2d(16)\n",
    "relu1=nn.ReLU()\n",
    "maxpool1=nn.MaxPool2d(kernel_size=3,stride=2)"
   ]
  },
  {
   "cell_type": "code",
   "execution_count": 47,
   "id": "59cd6e95",
   "metadata": {},
   "outputs": [],
   "source": [
    "conv2=nn.Conv2d(in_channels=16, out_channels=32,kernel_size=3,padding=1)\n",
    "bn2=nn.BatchNorm2d(32)\n",
    "relu2=nn.ReLU()\n",
    "maxpool2=nn.MaxPool2d(kernel_size=3,stride=2)"
   ]
  },
  {
   "cell_type": "code",
   "execution_count": 48,
   "id": "385fde18",
   "metadata": {},
   "outputs": [],
   "source": [
    "conv3=nn.Conv2d(in_channels=32, out_channels=64,kernel_size=3,padding=1)\n",
    "bn3=nn.BatchNorm2d(64)\n",
    "relu3=nn.ReLU()\n",
    "maxpool3=nn.MaxPool2d(kernel_size=2,stride=2)"
   ]
  },
  {
   "cell_type": "code",
   "execution_count": 49,
   "id": "9a9dfb79",
   "metadata": {},
   "outputs": [],
   "source": [
    "conv4=nn.Conv2d(in_channels=64, out_channels=100,kernel_size=3,padding=1)\n",
    "bn4=nn.BatchNorm2d(100)\n",
    "relu4=nn.ReLU()\n",
    "maxpool4=nn.MaxPool2d(kernel_size=2,stride=2)"
   ]
  },
  {
   "cell_type": "code",
   "execution_count": 50,
   "id": "75427a0c",
   "metadata": {},
   "outputs": [],
   "source": [
    "conv5=nn.Conv2d(in_channels=100, out_channels=128,kernel_size=3,padding=1)\n",
    "bn5=nn.BatchNorm2d(128)\n",
    "relu5=nn.ReLU()\n",
    "maxpool5=nn.AdaptiveAvgPool2d((1,1))"
   ]
  },
  {
   "cell_type": "code",
   "execution_count": 51,
   "id": "86fd2685",
   "metadata": {},
   "outputs": [],
   "source": [
    "drop1=nn.Dropout()\n",
    "flatten=nn.Flatten()\n",
    "l1=nn.Linear(in_features=128,out_features=256)\n",
    "bn6=nn.BatchNorm1d(256)\n",
    "relu6=nn.ReLU()\n",
    "drop2=nn.Dropout()\n",
    "l2=nn.Linear(in_features=256,out_features=128)\n",
    "bn7=nn.BatchNorm1d(128)\n",
    "relu7=nn.ReLU()\n",
    "drop3=nn.Dropout()\n",
    "l3=nn.Linear(in_features=128,out_features=30)\n",
    "bn8=nn.BatchNorm1d(30)\n",
    "relu8=nn.ReLU()\n",
    "out=nn.Linear(in_features=30,out_features=2)"
   ]
  },
  {
   "cell_type": "code",
   "execution_count": 52,
   "id": "edc8f764",
   "metadata": {},
   "outputs": [
    {
     "data": {
      "text/plain": [
       "Sequential(\n",
       "  (0): Conv2d(3, 16, kernel_size=(3, 3), stride=(1, 1), padding=(1, 1))\n",
       "  (1): BatchNorm2d(16, eps=1e-05, momentum=0.1, affine=True, track_running_stats=True)\n",
       "  (2): ReLU()\n",
       "  (3): MaxPool2d(kernel_size=3, stride=2, padding=0, dilation=1, ceil_mode=False)\n",
       "  (4): Conv2d(16, 32, kernel_size=(3, 3), stride=(1, 1), padding=(1, 1))\n",
       "  (5): BatchNorm2d(32, eps=1e-05, momentum=0.1, affine=True, track_running_stats=True)\n",
       "  (6): ReLU()\n",
       "  (7): MaxPool2d(kernel_size=3, stride=2, padding=0, dilation=1, ceil_mode=False)\n",
       "  (8): Conv2d(32, 64, kernel_size=(3, 3), stride=(1, 1), padding=(1, 1))\n",
       "  (9): BatchNorm2d(64, eps=1e-05, momentum=0.1, affine=True, track_running_stats=True)\n",
       "  (10): ReLU()\n",
       "  (11): MaxPool2d(kernel_size=2, stride=2, padding=0, dilation=1, ceil_mode=False)\n",
       "  (12): Conv2d(64, 100, kernel_size=(3, 3), stride=(1, 1), padding=(1, 1))\n",
       "  (13): BatchNorm2d(100, eps=1e-05, momentum=0.1, affine=True, track_running_stats=True)\n",
       "  (14): ReLU()\n",
       "  (15): MaxPool2d(kernel_size=2, stride=2, padding=0, dilation=1, ceil_mode=False)\n",
       "  (16): Conv2d(100, 128, kernel_size=(3, 3), stride=(1, 1), padding=(1, 1))\n",
       "  (17): BatchNorm2d(128, eps=1e-05, momentum=0.1, affine=True, track_running_stats=True)\n",
       "  (18): ReLU()\n",
       "  (19): AdaptiveAvgPool2d(output_size=(1, 1))\n",
       "  (20): Dropout(p=0.5, inplace=False)\n",
       "  (21): Flatten(start_dim=1, end_dim=-1)\n",
       "  (22): Linear(in_features=128, out_features=256, bias=True)\n",
       "  (23): BatchNorm1d(256, eps=1e-05, momentum=0.1, affine=True, track_running_stats=True)\n",
       "  (24): ReLU()\n",
       "  (25): Dropout(p=0.5, inplace=False)\n",
       "  (26): Linear(in_features=256, out_features=128, bias=True)\n",
       "  (27): BatchNorm1d(128, eps=1e-05, momentum=0.1, affine=True, track_running_stats=True)\n",
       "  (28): ReLU()\n",
       "  (29): Dropout(p=0.5, inplace=False)\n",
       "  (30): Linear(in_features=128, out_features=30, bias=True)\n",
       "  (31): BatchNorm1d(30, eps=1e-05, momentum=0.1, affine=True, track_running_stats=True)\n",
       "  (32): ReLU()\n",
       "  (33): Linear(in_features=30, out_features=2, bias=True)\n",
       ")"
      ]
     },
     "execution_count": 52,
     "metadata": {},
     "output_type": "execute_result"
    }
   ],
   "source": [
    "model.append(conv1)\n",
    "model.append(bn1)\n",
    "model.append(relu1)\n",
    "model.append(maxpool1)\n",
    "model.append(conv2)\n",
    "model.append(bn2)\n",
    "model.append(relu2)\n",
    "model.append(maxpool2)\n",
    "model.append(conv3)\n",
    "model.append(bn3)\n",
    "model.append(relu3)\n",
    "model.append(maxpool3)\n",
    "model.append(conv4)\n",
    "model.append(bn4)\n",
    "model.append(relu4)\n",
    "model.append(maxpool4)\n",
    "model.append(conv5)\n",
    "model.append(bn5)\n",
    "model.append(relu5)\n",
    "model.append(maxpool5)\n",
    "model.append(drop1)\n",
    "model.append(flatten)\n",
    "model.append(l1)\n",
    "model.append(bn6)\n",
    "model.append(relu6)\n",
    "model.append(drop2)\n",
    "model.append(l2)\n",
    "model.append(bn7)\n",
    "model.append(relu7)\n",
    "model.append(drop3)\n",
    "model.append(l3)\n",
    "model.append(bn8)\n",
    "model.append(relu8)\n",
    "model.append(out)"
   ]
  },
  {
   "cell_type": "code",
   "execution_count": 53,
   "id": "ee2ff0c8",
   "metadata": {},
   "outputs": [],
   "source": [
    "import numpy as np"
   ]
  },
  {
   "cell_type": "code",
   "execution_count": 54,
   "id": "a3cc1740",
   "metadata": {},
   "outputs": [],
   "source": [
    "from tqdm import tqdm"
   ]
  },
  {
   "cell_type": "code",
   "execution_count": 55,
   "id": "d8792b85",
   "metadata": {},
   "outputs": [],
   "source": [
    "loss_fn = nn.CrossEntropyLoss()\n",
    "optimizer = torch.optim.Adam(model.parameters(), lr=0.001)\n",
    "scheduler = torch.optim.lr_scheduler.StepLR(optimizer, step_size=5, gamma=0.1)"
   ]
  },
  {
   "cell_type": "code",
   "execution_count": 56,
   "id": "0ccbf5ae",
   "metadata": {},
   "outputs": [],
   "source": [
    "losses=[]\n",
    "val_losses=[]\n",
    "train_accuracies=[]\n",
    "val_accuracies=[]"
   ]
  },
  {
   "cell_type": "code",
   "execution_count": 57,
   "id": "1afe7dd2",
   "metadata": {},
   "outputs": [
    {
     "name": "stderr",
     "output_type": "stream",
     "text": [
      "  0%|          | 0/15 [00:00<?, ?it/s]"
     ]
    },
    {
     "name": "stdout",
     "output_type": "stream",
     "text": [
      "Epoch 0:\n",
      "\n"
     ]
    },
    {
     "name": "stderr",
     "output_type": "stream",
     "text": [
      "100%|██████████| 625/625 [23:59<00:00,  2.30s/it]\n",
      "100%|██████████| 625/625 [23:59<00:00,  2.30s/it]\n"
     ]
    },
    {
     "name": "stdout",
     "output_type": "stream",
     "text": [
      "Train loss: 0.6120, Train accuracy: 66.11%\n",
      "\n"
     ]
    },
    {
     "name": "stderr",
     "output_type": "stream",
     "text": [
      "100%|██████████| 79/79 [02:11<00:00,  1.66s/it]\n",
      "100%|██████████| 79/79 [02:11<00:00,  1.66s/it]it]\n",
      "  7%|▋         | 1/15 [26:10<6:06:32, 1570.86s/it]"
     ]
    },
    {
     "name": "stdout",
     "output_type": "stream",
     "text": [
      "Val loss: 0.5936, Val accuracy: 68.19%\n",
      "Epoch 1:\n",
      "\n"
     ]
    },
    {
     "name": "stderr",
     "output_type": "stream",
     "text": [
      "100%|██████████| 625/625 [19:52<00:00,  1.91s/it]\n",
      "100%|██████████| 625/625 [19:52<00:00,  1.91s/it]\n"
     ]
    },
    {
     "name": "stdout",
     "output_type": "stream",
     "text": [
      "Train loss: 0.5389, Train accuracy: 73.56%\n",
      "\n"
     ]
    },
    {
     "name": "stderr",
     "output_type": "stream",
     "text": [
      "100%|██████████| 79/79 [01:27<00:00,  1.11s/it]\n",
      "100%|██████████| 79/79 [01:27<00:00,  1.11s/it]it]\n",
      " 13%|█▎        | 2/15 [47:30<5:03:17, 1399.81s/it]"
     ]
    },
    {
     "name": "stdout",
     "output_type": "stream",
     "text": [
      "Val loss: 0.5913, Val accuracy: 69.11%\n",
      "Epoch 2:\n",
      "\n"
     ]
    },
    {
     "name": "stderr",
     "output_type": "stream",
     "text": [
      "100%|██████████| 625/625 [19:36<00:00,  1.88s/it]\n",
      "100%|██████████| 625/625 [19:36<00:00,  1.88s/it]\n"
     ]
    },
    {
     "name": "stdout",
     "output_type": "stream",
     "text": [
      "Train loss: 0.4912, Train accuracy: 77.16%\n",
      "\n"
     ]
    },
    {
     "name": "stderr",
     "output_type": "stream",
     "text": [
      "100%|██████████| 79/79 [01:27<00:00,  1.10s/it]\n",
      "100%|██████████| 79/79 [01:27<00:00,  1.10s/it]s/it]\n",
      " 20%|██        | 3/15 [1:08:34<4:27:33, 1337.82s/it]"
     ]
    },
    {
     "name": "stdout",
     "output_type": "stream",
     "text": [
      "Val loss: 0.4775, Val accuracy: 76.63%\n",
      "Epoch 3:\n",
      "\n"
     ]
    },
    {
     "name": "stderr",
     "output_type": "stream",
     "text": [
      "100%|██████████| 625/625 [19:46<00:00,  1.90s/it]\n",
      "100%|██████████| 625/625 [19:46<00:00,  1.90s/it]\n"
     ]
    },
    {
     "name": "stdout",
     "output_type": "stream",
     "text": [
      "Train loss: 0.4449, Train accuracy: 79.90%\n",
      "\n"
     ]
    },
    {
     "name": "stderr",
     "output_type": "stream",
     "text": [
      "100%|██████████| 79/79 [01:28<00:00,  1.11s/it]\n",
      "100%|██████████| 79/79 [01:28<00:00,  1.11s/it]s/it]\n",
      " 27%|██▋       | 4/15 [1:29:49<4:00:40, 1312.73s/it]"
     ]
    },
    {
     "name": "stdout",
     "output_type": "stream",
     "text": [
      "Val loss: 0.4146, Val accuracy: 81.87%\n",
      "Epoch 4:\n",
      "\n"
     ]
    },
    {
     "name": "stderr",
     "output_type": "stream",
     "text": [
      "100%|██████████| 625/625 [19:41<00:00,  1.89s/it]\n",
      "100%|██████████| 625/625 [19:41<00:00,  1.89s/it]\n"
     ]
    },
    {
     "name": "stdout",
     "output_type": "stream",
     "text": [
      "Train loss: 0.3981, Train accuracy: 82.65%\n",
      "\n"
     ]
    },
    {
     "name": "stderr",
     "output_type": "stream",
     "text": [
      "100%|██████████| 79/79 [01:27<00:00,  1.11s/it]\n",
      "100%|██████████| 79/79 [01:27<00:00,  1.11s/it]s/it]\n",
      " 33%|███▎      | 5/15 [1:50:58<3:36:11, 1297.18s/it]"
     ]
    },
    {
     "name": "stdout",
     "output_type": "stream",
     "text": [
      "Val loss: 0.4204, Val accuracy: 81.23%\n",
      "Epoch 5:\n",
      "\n"
     ]
    },
    {
     "name": "stderr",
     "output_type": "stream",
     "text": [
      "100%|██████████| 625/625 [19:43<00:00,  1.89s/it]\n",
      "100%|██████████| 625/625 [19:43<00:00,  1.89s/it]\n"
     ]
    },
    {
     "name": "stdout",
     "output_type": "stream",
     "text": [
      "Train loss: 0.3215, Train accuracy: 86.62%\n",
      "\n"
     ]
    },
    {
     "name": "stderr",
     "output_type": "stream",
     "text": [
      "100%|██████████| 79/79 [01:29<00:00,  1.13s/it]\n",
      "100%|██████████| 79/79 [01:29<00:00,  1.13s/it]s/it]\n",
      " 40%|████      | 6/15 [2:12:11<3:13:18, 1288.78s/it]"
     ]
    },
    {
     "name": "stdout",
     "output_type": "stream",
     "text": [
      "Val loss: 0.3109, Val accuracy: 87.56%\n",
      "Epoch 6:\n",
      "\n"
     ]
    },
    {
     "name": "stderr",
     "output_type": "stream",
     "text": [
      "100%|██████████| 625/625 [19:52<00:00,  1.91s/it]\n",
      "100%|██████████| 625/625 [19:52<00:00,  1.91s/it]\n"
     ]
    },
    {
     "name": "stdout",
     "output_type": "stream",
     "text": [
      "Train loss: 0.2994, Train accuracy: 87.44%\n",
      "\n"
     ]
    },
    {
     "name": "stderr",
     "output_type": "stream",
     "text": [
      "100%|██████████| 79/79 [01:30<00:00,  1.14s/it]\n",
      "100%|██████████| 79/79 [01:30<00:00,  1.14s/it]s/it]\n",
      " 47%|████▋     | 7/15 [2:33:34<2:51:35, 1286.93s/it]"
     ]
    },
    {
     "name": "stdout",
     "output_type": "stream",
     "text": [
      "Val loss: 0.3248, Val accuracy: 86.35%\n",
      "Epoch 7:\n",
      "\n"
     ]
    },
    {
     "name": "stderr",
     "output_type": "stream",
     "text": [
      "100%|██████████| 625/625 [19:53<00:00,  1.91s/it]\n",
      "100%|██████████| 625/625 [19:53<00:00,  1.91s/it]\n"
     ]
    },
    {
     "name": "stdout",
     "output_type": "stream",
     "text": [
      "Train loss: 0.2852, Train accuracy: 88.21%\n",
      "\n"
     ]
    },
    {
     "name": "stderr",
     "output_type": "stream",
     "text": [
      "100%|██████████| 79/79 [01:29<00:00,  1.13s/it]\n",
      "100%|██████████| 79/79 [01:29<00:00,  1.13s/it]s/it]\n",
      " 53%|█████▎    | 8/15 [2:54:56<2:29:58, 1285.53s/it]"
     ]
    },
    {
     "name": "stdout",
     "output_type": "stream",
     "text": [
      "Val loss: 0.3051, Val accuracy: 87.56%\n",
      "Epoch 8:\n",
      "\n"
     ]
    },
    {
     "name": "stderr",
     "output_type": "stream",
     "text": [
      "100%|██████████| 625/625 [19:47<00:00,  1.90s/it]\n",
      "100%|██████████| 625/625 [19:47<00:00,  1.90s/it]\n"
     ]
    },
    {
     "name": "stdout",
     "output_type": "stream",
     "text": [
      "Train loss: 0.2765, Train accuracy: 88.63%\n",
      "\n"
     ]
    },
    {
     "name": "stderr",
     "output_type": "stream",
     "text": [
      "100%|██████████| 79/79 [01:29<00:00,  1.13s/it]\n",
      "100%|██████████| 79/79 [01:29<00:00,  1.13s/it]s/it]\n",
      " 60%|██████    | 9/15 [3:16:13<2:08:17, 1282.86s/it]"
     ]
    },
    {
     "name": "stdout",
     "output_type": "stream",
     "text": [
      "Val loss: 0.3287, Val accuracy: 85.63%\n",
      "Epoch 9:\n",
      "\n"
     ]
    },
    {
     "name": "stderr",
     "output_type": "stream",
     "text": [
      "100%|██████████| 625/625 [19:52<00:00,  1.91s/it]\n",
      "100%|██████████| 625/625 [19:52<00:00,  1.91s/it]\n"
     ]
    },
    {
     "name": "stdout",
     "output_type": "stream",
     "text": [
      "Train loss: 0.2662, Train accuracy: 89.20%\n",
      "\n"
     ]
    },
    {
     "name": "stderr",
     "output_type": "stream",
     "text": [
      "100%|██████████| 79/79 [01:28<00:00,  1.12s/it]\n",
      "100%|██████████| 79/79 [01:28<00:00,  1.12s/it]6s/it]\n",
      " 67%|██████▋   | 10/15 [3:37:34<1:46:51, 1282.26s/it]"
     ]
    },
    {
     "name": "stdout",
     "output_type": "stream",
     "text": [
      "Val loss: 0.3125, Val accuracy: 86.75%\n",
      "Epoch 10:\n",
      "\n"
     ]
    },
    {
     "name": "stderr",
     "output_type": "stream",
     "text": [
      "100%|██████████| 625/625 [20:00<00:00,  1.92s/it]\n",
      "100%|██████████| 625/625 [20:00<00:00,  1.92s/it]\n"
     ]
    },
    {
     "name": "stdout",
     "output_type": "stream",
     "text": [
      "Train loss: 0.2531, Train accuracy: 89.63%\n",
      "\n"
     ]
    },
    {
     "name": "stderr",
     "output_type": "stream",
     "text": [
      "100%|██████████| 79/79 [01:29<00:00,  1.14s/it]\n",
      "100%|██████████| 79/79 [01:29<00:00,  1.14s/it]7s/it]\n",
      " 73%|███████▎  | 11/15 [3:59:04<1:25:38, 1284.57s/it]"
     ]
    },
    {
     "name": "stdout",
     "output_type": "stream",
     "text": [
      "Val loss: 0.2689, Val accuracy: 89.36%\n",
      "Epoch 11:\n",
      "\n"
     ]
    },
    {
     "name": "stderr",
     "output_type": "stream",
     "text": [
      "100%|██████████| 625/625 [19:51<00:00,  1.91s/it]\n",
      "100%|██████████| 625/625 [19:51<00:00,  1.91s/it]\n"
     ]
    },
    {
     "name": "stdout",
     "output_type": "stream",
     "text": [
      "Train loss: 0.2541, Train accuracy: 89.88%\n",
      "\n"
     ]
    },
    {
     "name": "stderr",
     "output_type": "stream",
     "text": [
      "100%|██████████| 79/79 [01:30<00:00,  1.14s/it]\n",
      "100%|██████████| 79/79 [01:30<00:00,  1.14s/it]0s/it]\n",
      " 80%|████████  | 12/15 [4:20:26<1:04:10, 1283.60s/it]"
     ]
    },
    {
     "name": "stdout",
     "output_type": "stream",
     "text": [
      "Val loss: 0.2681, Val accuracy: 89.88%\n",
      "Epoch 12:\n",
      "\n"
     ]
    },
    {
     "name": "stderr",
     "output_type": "stream",
     "text": [
      "100%|██████████| 625/625 [19:52<00:00,  1.91s/it]\n",
      "100%|██████████| 625/625 [19:52<00:00,  1.91s/it]\n"
     ]
    },
    {
     "name": "stdout",
     "output_type": "stream",
     "text": [
      "Train loss: 0.2581, Train accuracy: 89.58%\n",
      "\n"
     ]
    },
    {
     "name": "stderr",
     "output_type": "stream",
     "text": [
      "100%|██████████| 79/79 [01:29<00:00,  1.14s/it]\n",
      "100%|██████████| 79/79 [01:29<00:00,  1.14s/it]/it]  \n",
      " 87%|████████▋ | 13/15 [4:41:48<42:46, 1283.31s/it]  "
     ]
    },
    {
     "name": "stdout",
     "output_type": "stream",
     "text": [
      "Val loss: 0.2704, Val accuracy: 89.56%\n",
      "Epoch 13:\n",
      "\n"
     ]
    },
    {
     "name": "stderr",
     "output_type": "stream",
     "text": [
      "100%|██████████| 625/625 [19:57<00:00,  1.92s/it]\n",
      "100%|██████████| 625/625 [19:57<00:00,  1.92s/it]\n"
     ]
    },
    {
     "name": "stdout",
     "output_type": "stream",
     "text": [
      "Train loss: 0.2491, Train accuracy: 89.94%\n",
      "\n"
     ]
    },
    {
     "name": "stderr",
     "output_type": "stream",
     "text": [
      "100%|██████████| 79/79 [01:28<00:00,  1.12s/it]\n",
      "100%|██████████| 79/79 [01:28<00:00,  1.12s/it]/it]\n",
      " 93%|█████████▎| 14/15 [5:03:14<21:24, 1284.10s/it]"
     ]
    },
    {
     "name": "stdout",
     "output_type": "stream",
     "text": [
      "Val loss: 0.2667, Val accuracy: 90.04%\n",
      "Epoch 14:\n",
      "\n"
     ]
    },
    {
     "name": "stderr",
     "output_type": "stream",
     "text": [
      "100%|██████████| 625/625 [19:51<00:00,  1.91s/it]\n",
      "100%|██████████| 625/625 [19:51<00:00,  1.91s/it]\n"
     ]
    },
    {
     "name": "stdout",
     "output_type": "stream",
     "text": [
      "Train loss: 0.2478, Train accuracy: 89.89%\n",
      "\n"
     ]
    },
    {
     "name": "stderr",
     "output_type": "stream",
     "text": [
      "100%|██████████| 79/79 [01:28<00:00,  1.12s/it]\n",
      "100%|██████████| 79/79 [01:28<00:00,  1.12s/it]/it]\n",
      "100%|██████████| 15/15 [5:24:34<00:00, 1298.29s/it]"
     ]
    },
    {
     "name": "stdout",
     "output_type": "stream",
     "text": [
      "Val loss: 0.2654, Val accuracy: 90.12%\n"
     ]
    },
    {
     "name": "stderr",
     "output_type": "stream",
     "text": [
      "\n"
     ]
    }
   ],
   "source": [
    "for epoch in tqdm(range(15)):\n",
    "    print(f\"Epoch {epoch}:\\n\")\n",
    " \n",
    "    model.train()\n",
    "    epoch_losses=[]\n",
    "    correct_train = 0\n",
    "    total_train = 0\n",
    "    \n",
    "    for images,labels in tqdm(train_loader):\n",
    "        optimizer.zero_grad()\n",
    "        outputs=model(images)\n",
    "        loss=loss_fn(outputs,labels)\n",
    "        epoch_losses.append(loss.item())\n",
    "        loss.backward()\n",
    "        optimizer.step()\n",
    "        \n",
    "        _, predicted = torch.max(outputs.data, 1)\n",
    "        total_train += labels.size(0)\n",
    "        correct_train += (predicted == labels).sum().item()\n",
    "    \n",
    "    train_loss = np.mean(epoch_losses)\n",
    "    train_accuracy = 100 * correct_train / total_train\n",
    "    print(f\"Train loss: {train_loss:.4f}, Train accuracy: {train_accuracy:.2f}%\\n\")\n",
    "\n",
    "    model.eval()\n",
    "    epoch_val_losses=[]\n",
    "    correct_val = 0\n",
    "    total_val = 0\n",
    "    \n",
    "    with torch.no_grad():\n",
    "        for val_images,val_labels in tqdm(val_loader):\n",
    "            val_outputs=model(val_images)\n",
    "            val_loss=loss_fn(val_outputs,val_labels)\n",
    "            epoch_val_losses.append(val_loss.item())\n",
    "            \n",
    "            _, predicted = torch.max(val_outputs.data, 1)\n",
    "            total_val += val_labels.size(0)\n",
    "            correct_val += (predicted == val_labels).sum().item()\n",
    "    \n",
    "    val_loss = np.mean(epoch_val_losses)\n",
    "    val_accuracy = 100 * correct_val / total_val\n",
    "    print(f\"Val loss: {val_loss:.4f}, Val accuracy: {val_accuracy:.2f}%\")\n",
    "    \n",
    "    # Store metrics\n",
    "    losses.append(train_loss)\n",
    "    val_losses.append(val_loss)\n",
    "    train_accuracies.append(train_accuracy)\n",
    "    val_accuracies.append(val_accuracy)\n",
    "\n",
    "    scheduler.step()  "
   ]
  },
  {
   "cell_type": "code",
   "execution_count": 58,
   "id": "cfc14621",
   "metadata": {},
   "outputs": [
    {
     "name": "stderr",
     "output_type": "stream",
     "text": [
      "Testing: 100%|██████████| 79/79 [01:56<00:00,  1.48s/it]\n",
      "\n"
     ]
    },
    {
     "data": {
      "image/png": "[encoded data removed]",
      "text/plain": [
       "<Figure size 1500x600 with 2 Axes>"
      ]
     },
     "metadata": {},
     "output_type": "display_data"
    },
    {
     "name": "stdout",
     "output_type": "stream",
     "text": [
      "\n",
      "Final Results:\n",
      "Train - Loss: 0.2478, Accuracy: 89.89%\n",
      "Validation - Loss: 0.2654, Accuracy: 90.12%\n",
      "Test - Loss: 0.2261, Accuracy: 91.46%\n"
     ]
    }
   ],
   "source": [
    "import matplotlib.pyplot as plt\n",
    "\n",
    "# Calculate test accuracy only\n",
    "device = torch.device(\"cuda\" if torch.cuda.is_available() else \"cpu\")\n",
    "model.to(device)\n",
    "model.eval()\n",
    "\n",
    "correct_test = 0\n",
    "total_test = 0\n",
    "test_loss_total = 0\n",
    "\n",
    "with torch.no_grad():\n",
    "    for test_images, test_labels in tqdm(test_loader, desc=\"Testing\"):\n",
    "        test_images, test_labels = test_images.to(device), test_labels.to(device)\n",
    "        test_outputs = model(test_images)\n",
    "        test_loss = loss_fn(test_outputs, test_labels)\n",
    "        test_loss_total += test_loss.item()\n",
    "        \n",
    "        _, predicted = torch.max(test_outputs.data, 1)\n",
    "        total_test += test_labels.size(0)\n",
    "        correct_test += (predicted == test_labels).sum().item()\n",
    "\n",
    "final_test_loss = test_loss_total / len(test_loader)\n",
    "test_accuracy = 100 * correct_test / total_test\n",
    "\n",
    "# Create the plots\n",
    "fig, (ax1, ax2) = plt.subplots(1, 2, figsize=(15, 6))\n",
    "\n",
    "# Plot 1: Loss curves\n",
    "ax1.plot(range(len(losses)), losses, label='Training Loss', marker='o')\n",
    "ax1.plot(range(len(val_losses)), val_losses, label='Validation Loss', marker='s')\n",
    "ax1.axhline(y=final_test_loss, color='red', linestyle='--', label=f'Test Loss ({final_test_loss:.4f})')\n",
    "ax1.set_title('Training, Validation, and Test Loss')\n",
    "ax1.set_xlabel('Epochs')\n",
    "ax1.set_ylabel('Loss')\n",
    "ax1.legend()\n",
    "ax1.grid(True)\n",
    "\n",
    "# Plot 2: Accuracy curves\n",
    "ax2.plot(range(len(train_accuracies)), train_accuracies, label='Training Accuracy', marker='o')\n",
    "ax2.plot(range(len(val_accuracies)), val_accuracies, label='Validation Accuracy', marker='s')\n",
    "ax2.axhline(y=test_accuracy, color='red', linestyle='--', label=f'Test Accuracy ({test_accuracy:.2f}%)')\n",
    "ax2.set_title('Training, Validation, and Test Accuracy')\n",
    "ax2.set_xlabel('Epochs')\n",
    "ax2.set_ylabel('Accuracy (%)')\n",
    "ax2.legend()\n",
    "ax2.grid(True)\n",
    "\n",
    "plt.tight_layout()\n",
    "plt.show()\n",
    "\n",
    "print(f\"\\nFinal Results:\")\n",
    "print(f\"Train - Loss: {losses[-1]:.4f}, Accuracy: {train_accuracies[-1]:.2f}%\")\n",
    "print(f\"Validation - Loss: {val_losses[-1]:.4f}, Accuracy: {val_accuracies[-1]:.2f}%\")\n",
    "print(f\"Test - Loss: {final_test_loss:.4f}, Accuracy: {test_accuracy:.2f}%\")"
   ]
  },
  {
   "cell_type": "code",
   "execution_count": 59,
   "id": "4e58942e",
   "metadata": {},
   "outputs": [],
   "source": [
    "# Save the trained model\n",
    "import os\n",
    "\n",
    "# Create a models directory if it doesn't exist\n",
    "os.makedirs('models', exist_ok=True)\n",
    "\n",
    "# Save the entire model (architecture + weights)\n",
    "torch.save(model, 'models/cat_dog_classifier_full.pth')\n",
    "\n",
    "\n",
    "training_data = {\n",
    "    'losses': losses,\n",
    "    'val_losses': val_losses,\n",
    "    'train_accuracies': train_accuracies,\n",
    "    'val_accuracies': val_accuracies,\n",
    "    'final_test_loss': final_test_loss,\n",
    "    'test_accuracy': test_accuracy\n",
    "}\n",
    "torch.save(training_data, 'models/training_metrics.pth')\n"
   ]
  },
  {
   "cell_type": "code",
   "execution_count": 64,
   "id": "6b43be26",
   "metadata": {},
   "outputs": [
    {
     "data": {
      "text/plain": [
       "Sequential(\n",
       "  (0): Conv2d(3, 16, kernel_size=(3, 3), stride=(1, 1), padding=(1, 1))\n",
       "  (1): BatchNorm2d(16, eps=1e-05, momentum=0.1, affine=True, track_running_stats=True)\n",
       "  (2): ReLU()\n",
       "  (3): MaxPool2d(kernel_size=3, stride=2, padding=0, dilation=1, ceil_mode=False)\n",
       "  (4): Conv2d(16, 32, kernel_size=(3, 3), stride=(1, 1), padding=(1, 1))\n",
       "  (5): BatchNorm2d(32, eps=1e-05, momentum=0.1, affine=True, track_running_stats=True)\n",
       "  (6): ReLU()\n",
       "  (7): MaxPool2d(kernel_size=3, stride=2, padding=0, dilation=1, ceil_mode=False)\n",
       "  (8): Conv2d(32, 64, kernel_size=(3, 3), stride=(1, 1), padding=(1, 1))\n",
       "  (9): BatchNorm2d(64, eps=1e-05, momentum=0.1, affine=True, track_running_stats=True)\n",
       "  (10): ReLU()\n",
       "  (11): MaxPool2d(kernel_size=2, stride=2, padding=0, dilation=1, ceil_mode=False)\n",
       "  (12): Conv2d(64, 100, kernel_size=(3, 3), stride=(1, 1), padding=(1, 1))\n",
       "  (13): BatchNorm2d(100, eps=1e-05, momentum=0.1, affine=True, track_running_stats=True)\n",
       "  (14): ReLU()\n",
       "  (15): MaxPool2d(kernel_size=2, stride=2, padding=0, dilation=1, ceil_mode=False)\n",
       "  (16): Conv2d(100, 128, kernel_size=(3, 3), stride=(1, 1), padding=(1, 1))\n",
       "  (17): BatchNorm2d(128, eps=1e-05, momentum=0.1, affine=True, track_running_stats=True)\n",
       "  (18): ReLU()\n",
       "  (19): AdaptiveAvgPool2d(output_size=(1, 1))\n",
       "  (20): Dropout(p=0.5, inplace=False)\n",
       "  (21): Flatten(start_dim=1, end_dim=-1)\n",
       "  (22): Linear(in_features=128, out_features=256, bias=True)\n",
       "  (23): BatchNorm1d(256, eps=1e-05, momentum=0.1, affine=True, track_running_stats=True)\n",
       "  (24): ReLU()\n",
       "  (25): Dropout(p=0.5, inplace=False)\n",
       "  (26): Linear(in_features=256, out_features=128, bias=True)\n",
       "  (27): BatchNorm1d(128, eps=1e-05, momentum=0.1, affine=True, track_running_stats=True)\n",
       "  (28): ReLU()\n",
       "  (29): Dropout(p=0.5, inplace=False)\n",
       "  (30): Linear(in_features=128, out_features=30, bias=True)\n",
       "  (31): BatchNorm1d(30, eps=1e-05, momentum=0.1, affine=True, track_running_stats=True)\n",
       "  (32): ReLU()\n",
       "  (33): Linear(in_features=30, out_features=2, bias=True)\n",
       ")"
      ]
     },
     "execution_count": 64,
     "metadata": {},
     "output_type": "execute_result"
    }
   ],
   "source": [
    "\n",
    "loaded_model = torch.load('models/cat_dog_classifier_full.pth',weights_only=False)\n",
    "loaded_model.eval()  \n",
    "loaded_model.to(\"cpu\")\n"
   ]
  },
  {
   "cell_type": "code",
   "execution_count": 88,
   "id": "5c9cc7e3",
   "metadata": {},
   "outputs": [],
   "source": [
    "classesMap={\n",
    "    0:\"Cat\",\n",
    "    1:\"Dog\"\n",
    "}"
   ]
  },
  {
   "cell_type": "code",
   "execution_count": 60,
   "id": "3057656c",
   "metadata": {},
   "outputs": [],
   "source": [
    "from PIL import Image\n"
   ]
  },
  {
   "cell_type": "code",
   "execution_count": 61,
   "id": "c874b49a",
   "metadata": {},
   "outputs": [],
   "source": [
    "transformImg=transforms.ToTensor()"
   ]
  },
  {
   "cell_type": "code",
   "execution_count": 115,
   "id": "cc165444",
   "metadata": {},
   "outputs": [
    {
     "name": "stdout",
     "output_type": "stream",
     "text": [
      "Cat\n"
     ]
    }
   ],
   "source": [
    "path=\"991.jpg\"\n",
    "img=Image.open(path)\n",
    "imgTensor=transform(img)\n",
    "imgTensor=imgTensor.unsqueeze(0)\n",
    "\n",
    "with torch.no_grad():\n",
    "    output=loaded_model(imgTensor)\n",
    "    \n",
    "_,pred=torch.max(output.data,1)\n",
    "print(classesMap[pred.item()])\n"
   ]
  },
  {
   "cell_type": "code",
   "execution_count": null,
   "id": "94ac6403",
   "metadata": {},
   "outputs": [],
   "source": []
  },
  {
   "cell_type": "code",
   "execution_count": null,
   "id": "103f1cde",
   "metadata": {},
   "outputs": [],
   "source": []
  }
 ],
 "metadata": {
  "kernelspec": {
   "display_name": ".DL (3.13.5)",
   "language": "python",
   "name": "python3"
  },
  "language_info": {
   "codemirror_mode": {
    "name": "ipython",
    "version": 3
   },
   "file_extension": ".py",
   "mimetype": "text/x-python",
   "name": "python",
   "nbconvert_exporter": "python",
   "pygments_lexer": "ipython3",
   "version": "3.13.5"
  }
 },
 "nbformat": 4,
 "nbformat_minor": 5
}
